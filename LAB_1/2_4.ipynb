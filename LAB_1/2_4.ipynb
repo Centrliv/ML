{
 "cells": [
  {
   "cell_type": "code",
   "execution_count": 2,
   "id": "71fbb9db",
   "metadata": {},
   "outputs": [],
   "source": [
    "import numpy as np\n",
    "import matplotlib.pyplot as plt"
   ]
  },
  {
   "cell_type": "code",
   "execution_count": 71,
   "id": "14d940ad",
   "metadata": {},
   "outputs": [],
   "source": [
    "def transformation_plot(points: np.array, matrix: np.array) -> None:\n",
    "    new_points = np.dot(points, matrix)\n",
    "    \n",
    "    x = [p[0] for p in points]\n",
    "    x_new = [p[0] for p in new_points]\n",
    "    y = [p[1] for p in points]\n",
    "    y_new = [p[1] for p in new_points]\n",
    "    \n",
    "    fig, ax = plt.subplots()\n",
    "    ax.scatter(x, y)\n",
    "    ax.scatter(x_new, y_new)"
   ]
  },
  {
   "cell_type": "code",
   "execution_count": 72,
   "id": "107c6ae4",
   "metadata": {},
   "outputs": [
    {
     "data": {
      "image/png": "[encoded data removed]",
      "text/plain": [
       "<Figure size 432x288 with 1 Axes>"
      ]
     },
     "metadata": {
      "needs_background": "light"
     },
     "output_type": "display_data"
    }
   ],
   "source": [
    "num_points = 10\n",
    "points_ =  np.random.rand(num_points, 2) * 10\n",
    "matrix_ = np.array([[2,4],[1,3]])\n",
    "\n",
    "transformation_plot(points_, matrix_)\n",
    "plt.show()"
   ]
  },
  {
   "cell_type": "code",
   "execution_count": null,
   "id": "537835bf",
   "metadata": {},
   "outputs": [],
   "source": []
  }
 ],
 "metadata": {
  "kernelspec": {
   "display_name": "Python 3 (ipykernel)",
   "language": "python",
   "name": "python3"
  },
  "language_info": {
   "codemirror_mode": {
    "name": "ipython",
    "version": 3
   },
   "file_extension": ".py",
   "mimetype": "text/x-python",
   "name": "python",
   "nbconvert_exporter": "python",
   "pygments_lexer": "ipython3",
   "version": "3.9.7"
  }
 },
 "nbformat": 4,
 "nbformat_minor": 5
}
