{
 "cells": [
  {
   "cell_type": "code",
   "execution_count": 2,
   "id": "009a448a",
   "metadata": {},
   "outputs": [],
   "source": [
    "import numpy as np\n",
    "import pandas as pd\n",
    "import matplotlib.pyplot as plt"
   ]
  },
  {
   "cell_type": "code",
   "execution_count": 118,
   "id": "1bd74107",
   "metadata": {},
   "outputs": [
    {
     "data": {
      "image/png": "[encoded data removed]",
      "text/plain": [
       "<Figure size 432x288 with 1 Axes>"
      ]
     },
     "metadata": {
      "needs_background": "light"
     },
     "output_type": "display_data"
    }
   ],
   "source": [
    "N = 10\n",
    "d = 2\n",
    "\n",
    "X = np.array([np.random.multivariate_normal(mean=[1,2],cov=[[2,1],[1,3]]) for i in range(N)])\n",
    "col_means = X.mean(axis = 0)\n",
    "col_std = X.std(axis = 0)\n",
    "x = X[:,0].copy()\n",
    "y = X[:,1].copy()\n",
    "for column in range(X.shape[1]):\n",
    "    X[:,column] = (X[:,column] - col_means[column]) / col_std[column]    \n",
    "x_new = X[:,0]\n",
    "y_new = X[:,1]\n",
    "\n",
    "fig, ax = plt.subplots()\n",
    "ax.scatter(x, y)\n",
    "ax.scatter(x_new, y_new)\n",
    "plt.show()"
   ]
  },
  {
   "cell_type": "code",
   "execution_count": null,
   "id": "a440b9ae",
   "metadata": {},
   "outputs": [],
   "source": []
  }
 ],
 "metadata": {
  "kernelspec": {
   "display_name": "Python 3 (ipykernel)",
   "language": "python",
   "name": "python3"
  },
  "language_info": {
   "codemirror_mode": {
    "name": "ipython",
    "version": 3
   },
   "file_extension": ".py",
   "mimetype": "text/x-python",
   "name": "python",
   "nbconvert_exporter": "python",
   "pygments_lexer": "ipython3",
   "version": "3.9.7"
  }
 },
 "nbformat": 4,
 "nbformat_minor": 5
}
