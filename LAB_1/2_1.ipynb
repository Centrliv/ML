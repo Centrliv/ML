{
 "cells": [
  {
   "cell_type": "code",
   "execution_count": 25,
   "id": "2c4dc669",
   "metadata": {},
   "outputs": [],
   "source": [
    "import numpy as np"
   ]
  },
  {
   "cell_type": "code",
   "execution_count": 26,
   "id": "6449f097",
   "metadata": {},
   "outputs": [],
   "source": [
    "n = 10\n",
    "w = np.random.rand(n)\n",
    "x = np.random.rand(n)\n",
    "b = 0.5"
   ]
  },
  {
   "cell_type": "code",
   "execution_count": 27,
   "id": "11d097b6",
   "metadata": {},
   "outputs": [
    {
     "data": {
      "text/plain": [
       "array([0.53573613, 0.70739433, 0.82915593, 0.6050797 , 0.61167862,\n",
       "       0.53558709, 0.57549603, 0.56433174, 0.94287683, 0.6790345 ])"
      ]
     },
     "execution_count": 27,
     "metadata": {},
     "output_type": "execute_result"
    }
   ],
   "source": [
    "f = w*x+b\n",
    "f"
   ]
  }
 ],
 "metadata": {
  "kernelspec": {
   "display_name": "Python 3 (ipykernel)",
   "language": "python",
   "name": "python3"
  },
  "language_info": {
   "codemirror_mode": {
    "name": "ipython",
    "version": 3
   },
   "file_extension": ".py",
   "mimetype": "text/x-python",
   "name": "python",
   "nbconvert_exporter": "python",
   "pygments_lexer": "ipython3",
   "version": "3.8.5"
  }
 },
 "nbformat": 4,
 "nbformat_minor": 5
}
