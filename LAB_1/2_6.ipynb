{
 "cells": [
  {
   "cell_type": "code",
   "execution_count": 1,
   "id": "66ea8c07",
   "metadata": {},
   "outputs": [],
   "source": [
    "import numpy as np"
   ]
  },
  {
   "cell_type": "code",
   "execution_count": 41,
   "id": "8d906de3",
   "metadata": {},
   "outputs": [
    {
     "name": "stdout",
     "output_type": "stream",
     "text": [
      "<90:  0.48\n",
      "<30:  0.52\n"
     ]
    }
   ],
   "source": [
    "d = 3\n",
    "samples = 100\n",
    "\n",
    "V = np.random.rand(samples, d)\n",
    "\n",
    "q = np.random.rand(d)\n",
    "q_module = np.sqrt(np.power(q, 2).sum())\n",
    "\n",
    "a_counter = 0\n",
    "b_counter = 0\n",
    "for vector in V:\n",
    "    scalar = (vector * q).sum()\n",
    "    vector_module = np.sqrt(np.power(vector, 2).sum())\n",
    "    angle = np.degrees(np.arccos(scalar / (vector_module * q_module)))\n",
    "    \n",
    "    if angle < 30:\n",
    "        a_counter += 1\n",
    "    elif angle < 90:\n",
    "        b_counter += 1\n",
    "\n",
    "print('<90: ', a_counter /samples)\n",
    "print('<30: ', b_counter /samples)"
   ]
  },
  {
   "cell_type": "code",
   "execution_count": null,
   "id": "c620c4a7",
   "metadata": {},
   "outputs": [],
   "source": []
  }
 ],
 "metadata": {
  "kernelspec": {
   "display_name": "Python 3 (ipykernel)",
   "language": "python",
   "name": "python3"
  },
  "language_info": {
   "codemirror_mode": {
    "name": "ipython",
    "version": 3
   },
   "file_extension": ".py",
   "mimetype": "text/x-python",
   "name": "python",
   "nbconvert_exporter": "python",
   "pygments_lexer": "ipython3",
   "version": "3.8.5"
  }
 },
 "nbformat": 4,
 "nbformat_minor": 5
}
