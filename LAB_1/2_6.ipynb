{
 "cells": [
  {
   "cell_type": "code",
   "execution_count": 2,
   "id": "66ea8c07",
   "metadata": {},
   "outputs": [],
   "source": [
    "import numpy as np"
   ]
  },
  {
   "cell_type": "code",
   "execution_count": 3,
   "id": "8d906de3",
   "metadata": {},
   "outputs": [
    {
     "name": "stdout",
     "output_type": "stream",
     "text": [
      "<90:  0.52\n",
      "<30:  0.48\n"
     ]
    }
   ],
   "source": [
    "d = 3\n",
    "samples = 100\n",
    "\n",
    "V = np.random.rand(samples, d)\n",
    "\n",
    "q = np.random.rand(d)\n",
    "q_module = np.linalg.norm(q)\n",
    "\n",
    "a_counter = 0\n",
    "b_counter = 0\n",
    "for vector in V:\n",
    "    scalar = np.dot(vector, q)\n",
    "    vector_module = np.linalg.norm(vector)\n",
    "    angle = np.degrees(np.arccos(scalar / (vector_module * q_module)))\n",
    "    \n",
    "    if angle < 30:\n",
    "        a_counter += 1\n",
    "    elif angle >= 30 and angle < 90:\n",
    "        b_counter += 1\n",
    "    else:\n",
    "        pass\n",
    "\n",
    "print('<90: ', b_counter /samples)\n",
    "print('<30: ', a_counter /samples)"
   ]
  },
  {
   "cell_type": "code",
   "execution_count": null,
   "id": "c291eff9",
   "metadata": {},
   "outputs": [],
   "source": []
  }
 ],
 "metadata": {
  "kernelspec": {
   "display_name": "Python 3 (ipykernel)",
   "language": "python",
   "name": "python3"
  },
  "language_info": {
   "codemirror_mode": {
    "name": "ipython",
    "version": 3
   },
   "file_extension": ".py",
   "mimetype": "text/x-python",
   "name": "python",
   "nbconvert_exporter": "python",
   "pygments_lexer": "ipython3",
   "version": "3.9.7"
  }
 },
 "nbformat": 4,
 "nbformat_minor": 5
}
