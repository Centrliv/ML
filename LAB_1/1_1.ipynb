{
 "cells": [
  {
   "cell_type": "code",
   "execution_count": 9,
   "id": "592fef58",
   "metadata": {},
   "outputs": [],
   "source": [
    "import json\n",
    "input_file = open('sales.json', 'r')\n",
    "\n",
    "json_data = json.loads(input_file.read())\n",
    "\n",
    "output_data = 'item;country;year;sales\\n'\n",
    "for row in json_data:\n",
    "    item = row['item']\n",
    "    for country_name, country_data in row['sales_by_country'].items():\n",
    "        for year, sales in country_data.items():\n",
    "            output_data += f\"{item};{country_name};{year};{sales}\\n\"\n",
    "\n",
    "file_out = open('output.csv', 'w')\n",
    "file_out.write(output_data)\n",
    "file_out.close()\n",
    "input_file.close()"
   ]
  },
  {
   "cell_type": "code",
   "execution_count": null,
   "id": "64de2716",
   "metadata": {},
   "outputs": [],
   "source": []
  }
 ],
 "metadata": {
  "kernelspec": {
   "display_name": "Python 3 (ipykernel)",
   "language": "python",
   "name": "python3"
  },
  "language_info": {
   "codemirror_mode": {
    "name": "ipython",
    "version": 3
   },
   "file_extension": ".py",
   "mimetype": "text/x-python",
   "name": "python",
   "nbconvert_exporter": "python",
   "pygments_lexer": "ipython3",
   "version": "3.9.7"
  }
 },
 "nbformat": 4,
 "nbformat_minor": 5
}
