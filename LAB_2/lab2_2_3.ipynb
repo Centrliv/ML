{
 "cells": [
  {
   "cell_type": "code",
   "execution_count": 9,
   "id": "38872fbe",
   "metadata": {},
   "outputs": [
    {
     "data": {
      "text/plain": [
       "<torch._C.Generator at 0x1ba7fa2c4b0>"
      ]
     },
     "execution_count": 9,
     "metadata": {},
     "output_type": "execute_result"
    }
   ],
   "source": [
    "import torch\n",
    "import random\n",
    "import numpy as np\n",
    "import torchvision.datasets\n",
    "import matplotlib.pyplot as plt\n",
    "\n",
    "random.seed(0)\n",
    "np.random.seed(0)\n",
    "torch.manual_seed(0)"
   ]
  },
  {
   "cell_type": "code",
   "execution_count": 13,
   "id": "e17acefc",
   "metadata": {},
   "outputs": [],
   "source": [
    "MNIST_train = torchvision.datasets.MNIST('./', download=True, train=True)\n",
    "MNIST_test = torchvision.datasets.MNIST('./', download=True, train=False)"
   ]
  },
  {
   "cell_type": "code",
   "execution_count": 23,
   "id": "ec67b567",
   "metadata": {},
   "outputs": [
    {
     "name": "stderr",
     "output_type": "stream",
     "text": [
      "D:\\Programs\\anaconda\\envs\\ml\\lib\\site-packages\\torchvision\\datasets\\mnist.py:55: UserWarning: train_data has been renamed data\n",
      "  warnings.warn(\"train_data has been renamed data\")\n",
      "D:\\Programs\\anaconda\\envs\\ml\\lib\\site-packages\\torchvision\\datasets\\mnist.py:45: UserWarning: train_labels has been renamed targets\n",
      "  warnings.warn(\"train_labels has been renamed targets\")\n",
      "D:\\Programs\\anaconda\\envs\\ml\\lib\\site-packages\\torchvision\\datasets\\mnist.py:60: UserWarning: test_data has been renamed data\n",
      "  warnings.warn(\"test_data has been renamed data\")\n",
      "D:\\Programs\\anaconda\\envs\\ml\\lib\\site-packages\\torchvision\\datasets\\mnist.py:50: UserWarning: test_labels has been renamed targets\n",
      "  warnings.warn(\"test_labels has been renamed targets\")\n"
     ]
    }
   ],
   "source": [
    "X_train = MNIST_train.train_data\n",
    "y_train = MNIST_train.train_labels\n",
    "X_test = MNIST_test.test_data\n",
    "y_test = MNIST_test.test_labels"
   ]
  },
  {
   "cell_type": "code",
   "execution_count": 24,
   "id": "93d2c5a3",
   "metadata": {},
   "outputs": [],
   "source": [
    "X_train = X_train.float()\n",
    "X_test = X_test.float()"
   ]
  },
  {
   "cell_type": "code",
   "execution_count": 25,
   "id": "e6125d84",
   "metadata": {},
   "outputs": [
    {
     "data": {
      "image/png": "[encoded data removed]",
      "text/plain": [
       "<Figure size 432x288 with 1 Axes>"
      ]
     },
     "metadata": {
      "needs_background": "light"
     },
     "output_type": "display_data"
    },
    {
     "name": "stdout",
     "output_type": "stream",
     "text": [
      "tensor(5)\n"
     ]
    }
   ],
   "source": [
    "plt.imshow(X_train[0, :, :])\n",
    "plt.show()\n",
    "print(y_train[0])"
   ]
  },
  {
   "cell_type": "code",
   "execution_count": 26,
   "id": "4d065b70",
   "metadata": {},
   "outputs": [],
   "source": [
    "X_train = X_train.reshape([-1, 28 * 28])\n",
    "X_test = X_test.reshape([-1, 28 * 28])"
   ]
  },
  {
   "cell_type": "code",
   "execution_count": 27,
   "id": "5d1eea07",
   "metadata": {},
   "outputs": [],
   "source": [
    "class MNISTNet(torch.nn.Module):\n",
    "    def __init__(self):\n",
    "        super(MNISTNet, self).__init__()\n",
    "        self.fc1 = torch.nn.Linear(28 * 28, 100)\n",
    "        self.ac1 = torch.nn.Sigmoid()\n",
    "        self.fc2 = torch.nn.Linear(100, 10) \n",
    "    \n",
    "    def forward(self, x):\n",
    "        x = self.fc1(x)\n",
    "        x = self.ac1(x)\n",
    "        x = self.fc2(x)\n",
    "        return x\n",
    "    \n",
    "mnist_net = MNISTNet()"
   ]
  },
  {
   "cell_type": "code",
   "execution_count": 29,
   "id": "680a189e",
   "metadata": {},
   "outputs": [],
   "source": [
    "loss = torch.nn.CrossEntropyLoss()\n",
    "optimizer = torch.optim.Adam(mnist_net.parameters(), lr=0.001)"
   ]
  },
  {
   "cell_type": "code",
   "execution_count": 30,
   "id": "2724c3e6",
   "metadata": {},
   "outputs": [
    {
     "name": "stdout",
     "output_type": "stream",
     "text": [
      "tensor(0.9092)\n",
      "tensor(0.9162)\n",
      "tensor(0.9207)\n",
      "tensor(0.9292)\n",
      "tensor(0.9274)\n",
      "tensor(0.9291)\n",
      "tensor(0.9274)\n",
      "tensor(0.9338)\n",
      "tensor(0.9237)\n",
      "tensor(0.9219)\n"
     ]
    }
   ],
   "source": [
    "batch_size = 100\n",
    "for epoch in range(10):\n",
    "    order = np.random.permutation(len(X_train))\n",
    "    \n",
    "    for start_index in range(0, len(X_train), batch_size):\n",
    "        optimizer.zero_grad()\n",
    "        \n",
    "        batch_indexes = order[start_index:start_index+batch_size]\n",
    "        \n",
    "        X_batch = X_train[batch_indexes]\n",
    "        y_batch = y_train[batch_indexes]\n",
    "        \n",
    "        preds = mnist_net.forward(X_batch) \n",
    "        \n",
    "        loss_value = loss(preds, y_batch)\n",
    "        loss_value.backward()\n",
    "        \n",
    "        optimizer.step()\n",
    "\n",
    "    test_preds = mnist_net.forward(X_test)\n",
    "    accuracy = (test_preds.argmax(dim=1) == y_test).float().mean()\n",
    "    print(accuracy)"
   ]
  },
  {
   "cell_type": "code",
   "execution_count": 61,
   "id": "e9f40aff",
   "metadata": {},
   "outputs": [
    {
     "data": {
      "text/plain": [
       "7"
      ]
     },
     "execution_count": 61,
     "metadata": {},
     "output_type": "execute_result"
    }
   ],
   "source": [
    "torch.argmax(mnist_net.forward(X_test)[0]).item()"
   ]
  },
  {
   "cell_type": "code",
   "execution_count": 62,
   "id": "147f73a6",
   "metadata": {},
   "outputs": [],
   "source": [
    "def get_preds(input_, net):\n",
    "    predictions = net.forward(input_)\n",
    "    res = []\n",
    "    for p in predictions:\n",
    "        res.append(torch.argmax(p).item())\n",
    "    return np.array(res)"
   ]
  },
  {
   "cell_type": "code",
   "execution_count": 63,
   "id": "1951ee60",
   "metadata": {},
   "outputs": [
    {
     "data": {
      "text/plain": [
       "array([7, 2, 1, ..., 4, 5, 6])"
      ]
     },
     "execution_count": 63,
     "metadata": {},
     "output_type": "execute_result"
    }
   ],
   "source": [
    "get_preds(X_test, mnist_net)"
   ]
  },
  {
   "cell_type": "code",
   "execution_count": 68,
   "id": "38fd3193",
   "metadata": {},
   "outputs": [
    {
     "data": {
      "text/plain": [
       "array([7, 2, 1, ..., 4, 5, 6], dtype=int64)"
      ]
     },
     "execution_count": 68,
     "metadata": {},
     "output_type": "execute_result"
    }
   ],
   "source": [
    "y_test.detach().numpy()"
   ]
  },
  {
   "cell_type": "code",
   "execution_count": 64,
   "id": "ef3474f1",
   "metadata": {},
   "outputs": [
    {
     "name": "stderr",
     "output_type": "stream",
     "text": [
      "D:\\Programs\\anaconda\\envs\\ml\\lib\\site-packages\\torchvision\\datasets\\mnist.py:60: UserWarning: test_data has been renamed data\n",
      "  warnings.warn(\"test_data has been renamed data\")\n"
     ]
    },
    {
     "data": {
      "image/png": "[encoded data removed]",
      "text/plain": [
       "<Figure size 432x288 with 1 Axes>"
      ]
     },
     "metadata": {
      "needs_background": "light"
     },
     "output_type": "display_data"
    },
    {
     "name": "stdout",
     "output_type": "stream",
     "text": [
      "tensor(7)\n"
     ]
    }
   ],
   "source": [
    "plt.imshow(MNIST_test.test_data.float()[0, :, :])\n",
    "plt.show()\n",
    "print(y_test[0])"
   ]
  },
  {
   "cell_type": "code",
   "execution_count": 71,
   "id": "2bb327ae",
   "metadata": {},
   "outputs": [
    {
     "name": "stdout",
     "output_type": "stream",
     "text": [
      "              precision    recall  f1-score   support\n",
      "\n",
      "           0       0.98      0.93      0.96      1036\n",
      "           1       0.98      0.97      0.98      1142\n",
      "           2       0.87      0.92      0.90       977\n",
      "           3       0.87      0.90      0.89       977\n",
      "           4       0.92      0.95      0.93       945\n",
      "           5       0.90      0.87      0.88       923\n",
      "           6       0.94      0.96      0.95       937\n",
      "           7       0.93      0.94      0.94      1026\n",
      "           8       0.90      0.86      0.88      1017\n",
      "           9       0.92      0.91      0.91      1020\n",
      "\n",
      "    accuracy                           0.92     10000\n",
      "   macro avg       0.92      0.92      0.92     10000\n",
      "weighted avg       0.92      0.92      0.92     10000\n",
      "\n"
     ]
    }
   ],
   "source": [
    "from sklearn.metrics import confusion_matrix\n",
    "from sklearn.metrics import classification_report\n",
    "print(classification_report(get_preds(X_test, mnist_net), y_test.detach().numpy()))"
   ]
  },
  {
   "cell_type": "code",
   "execution_count": 93,
   "id": "c116dd3f",
   "metadata": {},
   "outputs": [
    {
     "data": {
      "text/plain": [
       "array([[ 963,    0,   12,    6,    3,   12,   21,    1,   11,    7],\n",
       "       [   0, 1111,    6,    0,    4,    1,    3,    8,    2,    7],\n",
       "       [   2,    3,  900,   19,    9,    2,    3,   28,    9,    2],\n",
       "       [   1,    4,   33,  882,    0,   31,    1,    5,    9,   11],\n",
       "       [   0,    1,    5,    0,  899,    4,    6,    5,    7,   18],\n",
       "       [   8,    2,    2,   52,    1,  802,   16,    1,   28,   11],\n",
       "       [   2,    3,    8,    0,    8,    8,  900,    0,    7,    1],\n",
       "       [   1,    1,   14,   20,    4,    4,    0,  961,    9,   12],\n",
       "       [   3,   10,   49,   27,    8,   22,    8,    5,  873,   12],\n",
       "       [   0,    0,    3,    4,   46,    6,    0,   14,   19,  928]],\n",
       "      dtype=int64)"
      ]
     },
     "execution_count": 93,
     "metadata": {},
     "output_type": "execute_result"
    }
   ],
   "source": [
    "np.array(confusion_matrix(get_preds(X_test, mnist_net), y_test.detach().numpy()))"
   ]
  },
  {
   "cell_type": "code",
   "execution_count": 99,
   "id": "f21d9345",
   "metadata": {},
   "outputs": [
    {
     "data": {
      "text/plain": [
       "2"
      ]
     },
     "execution_count": 99,
     "metadata": {},
     "output_type": "execute_result"
    }
   ],
   "source": [
    "np.argmax(np.array(confusion_matrix(get_preds(X_test, mnist_net), y_test.detach().numpy())).sum(axis=0) - \\\n",
    "    np.array(confusion_matrix(get_preds(X_test, mnist_net), y_test.detach().numpy())).max(axis=0))"
   ]
  },
  {
   "cell_type": "code",
   "execution_count": null,
   "id": "3192a873",
   "metadata": {},
   "outputs": [],
   "source": []
  }
 ],
 "metadata": {
  "kernelspec": {
   "display_name": "Python 3 (ipykernel)",
   "language": "python",
   "name": "python3"
  },
  "language_info": {
   "codemirror_mode": {
    "name": "ipython",
    "version": 3
   },
   "file_extension": ".py",
   "mimetype": "text/x-python",
   "name": "python",
   "nbconvert_exporter": "python",
   "pygments_lexer": "ipython3",
   "version": "3.8.12"
  }
 },
 "nbformat": 4,
 "nbformat_minor": 5
}
